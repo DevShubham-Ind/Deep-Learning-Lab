{
 "cells": [
  {
   "cell_type": "code",
   "execution_count": null,
   "id": "9daafdb1-47de-4ee0-8467-880b0187ef8f",
   "metadata": {},
   "outputs": [],
   "source": [
    "# Modify the following network to multi-class classification.\n",
    "\n",
    "import tensorflow as tf\n",
    "from tensorflow.keras.models import Sequential\n",
    "from tensorflow.keras.layers import Dense\n",
    "\n",
    "# Creating a simple neural network\n",
    "model = Sequential([\n",
    "    Dense(64, activation='relu', input_shape=(10,)),\n",
    "    Dense(32, activation='relu'),\n",
    "    Dense(1, activation='sigmoid')\n",
    "])\n",
    "\n",
    "model.compile(optimizer='adam', loss='binary_crossentropy', metrics=['accuracy'])\n",
    "\n",
    "# Summary of the model\n",
    "model.summary()\n"
   ]
  },
  {
   "cell_type": "code",
   "execution_count": null,
   "id": "c8ee03d3-2c08-4132-a9ea-a94bd017ef03",
   "metadata": {},
   "outputs": [],
   "source": [
    "# Plot training testing and validation loss\n",
    "\n",
    "from sklearn.model_selection import train_test_split\n",
    "from sklearn.datasets import make_classification\n",
    "import numpy as np\n",
    "\n",
    "# Generate synthetic data\n",
    "X, y = make_classification(n_samples=1000, n_features=10, n_classes=2, random_state=42)\n",
    "X_train, X_test, y_train, y_test = train_test_split(X, y, test_size=0.2, random_state=42)\n",
    "\n",
    "# Training the model\n",
    "history = model.fit(X_train, y_train, epochs=10, batch_size=32, validation_split=0.2)\n",
    "\n",
    "# Evaluate the model\n",
    "test_loss, test_accuracy = model.evaluate(X_test, y_test)\n",
    "print(f\"Test Accuracy: {test_accuracy:.2f}\")\n"
   ]
  },
  {
   "cell_type": "code",
   "execution_count": null,
   "id": "91e5225f-c5f1-4f64-94c9-910042737bd8",
   "metadata": {},
   "outputs": [],
   "source": [
    "#Build a neural network\n",
    "\n",
    "from sklearn.datasets import make_classification\n",
    "X, y = make_classification(n_samples=500, n_features=10, n_classes=2, random_state=42)\n",
    "\n",
    "#Train a neural network with one hidden layer containing 16 neurons.\n",
    "#Evaluate Accuracy \n",
    "\n",
    "# Another hidden layer with 8 neurons add in the network\n",
    "# Use a different activation function (e.g.tanh ).\n",
    "# Compare the performance with above model "
   ]
  }
 ],
 "metadata": {
  "kernelspec": {
   "display_name": "Python 3 (ipykernel)",
   "language": "python",
   "name": "python3"
  },
  "language_info": {
   "codemirror_mode": {
    "name": "ipython",
    "version": 3
   },
   "file_extension": ".py",
   "mimetype": "text/x-python",
   "name": "python",
   "nbconvert_exporter": "python",
   "pygments_lexer": "ipython3",
   "version": "3.12.4"
  }
 },
 "nbformat": 4,
 "nbformat_minor": 5
}
