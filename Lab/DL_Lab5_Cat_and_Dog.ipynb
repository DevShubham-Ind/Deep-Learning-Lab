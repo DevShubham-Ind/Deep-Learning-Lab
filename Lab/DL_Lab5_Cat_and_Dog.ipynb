{
 "cells": [
  {
   "cell_type": "code",
   "execution_count": 1,
   "id": "4f8410cb-bc75-428b-8b45-65f3f5051c54",
   "metadata": {},
   "outputs": [],
   "source": [
    "import tensorflow as tf\n",
    "from tensorflow.keras.preprocessing.image import ImageDataGenerator\n",
    "from tensorflow.keras.applications import VGG16\n",
    "from tensorflow.keras.models import Model\n",
    "from tensorflow.keras.layers import Flatten, Dense, Dropout\n",
    "from tensorflow.keras.optimizers import Adam"
   ]
  },
  {
   "cell_type": "code",
   "execution_count": 8,
   "id": "4fdd2730-4d72-4b5a-bb97-95eca8649caf",
   "metadata": {},
   "outputs": [],
   "source": [
    "from tensorflow.keras.models import Sequential"
   ]
  },
  {
   "cell_type": "code",
   "execution_count": 15,
   "id": "8728cdec-ebbc-4074-b518-00604d1d526b",
   "metadata": {},
   "outputs": [],
   "source": [
    "import matplotlib.pyplot as plt"
   ]
  },
  {
   "cell_type": "code",
   "execution_count": 4,
   "id": "af062f85-d54b-48bc-899f-64a4b20ae2b8",
   "metadata": {},
   "outputs": [],
   "source": [
    "train_dir = r'.\\..\\Dataset\\cats_and_dogs_filtered\\cats_and_dogs_filtered\\train'\n",
    "val_dir = r'.\\..\\Dataset\\cats_and_dogs_filtered\\cats_and_dogs_filtered\\validation'"
   ]
  },
  {
   "cell_type": "code",
   "execution_count": 5,
   "id": "96710a69-d482-4346-9cfe-80f9f0da212f",
   "metadata": {},
   "outputs": [
    {
     "name": "stdout",
     "output_type": "stream",
     "text": [
      "Found 2000 images belonging to 2 classes.\n",
      "Found 1000 images belonging to 2 classes.\n"
     ]
    }
   ],
   "source": [
    "# train_datagen = ImageDataGenerator(\n",
    "#     rescale=1.0/255,\n",
    "#     rotation_range=20,\n",
    "#     width_shift_range=0.2,\n",
    "#     height_shift_range=0.2,\n",
    "#     shear_range=0.2,\n",
    "#     zoom_range=0.2,\n",
    "#     horizontal_flip=True\n",
    "# )\n",
    "\n",
    "datagen = ImageDataGenerator(rescale=1.0/255)\n",
    "\n",
    "train_generator = datagen.flow_from_directory(\n",
    "    train_dir,\n",
    "    target_size=(150, 150),\n",
    "    batch_size=32,\n",
    "    class_mode='binary'\n",
    ")\n",
    "\n",
    "val_generator = datagen.flow_from_directory(\n",
    "    val_dir,\n",
    "    target_size=(150, 150),\n",
    "    batch_size=32,\n",
    "    class_mode='binary'\n",
    ")"
   ]
  },
  {
   "cell_type": "code",
   "execution_count": 6,
   "id": "0d90155d-6bb2-4d29-9eca-eac70f51b3a6",
   "metadata": {},
   "outputs": [
    {
     "name": "stdout",
     "output_type": "stream",
     "text": [
      "Downloading data from https://storage.googleapis.com/tensorflow/keras-applications/vgg16/vgg16_weights_tf_dim_ordering_tf_kernels_notop.h5\n",
      "58889256/58889256 [==============================] - 114s 2us/step\n"
     ]
    }
   ],
   "source": [
    "# Load VGG16 Model with ImageNet weights, exclude top layer\n",
    "base_model = VGG16(weights='imagenet', include_top=False, input_shape=(150, 150, 3))"
   ]
  },
  {
   "cell_type": "code",
   "execution_count": 9,
   "id": "20c9ab84-1c23-4728-80e9-234f8c6bef88",
   "metadata": {},
   "outputs": [],
   "source": [
    "for layer in base_model.layers[:-4]:\n",
    "    layer.trainable = False\n",
    "\n",
    "model = Sequential([\n",
    "    base_model,            \n",
    "    Flatten(),                           # flatten\n",
    "    Dense(256, activation='relu'),       # fully connected\n",
    "    Dropout(0.5),                        # dropout\n",
    "    Dense(1, activation='sigmoid')       # output layer for binary\n",
    "])\n",
    "\n",
    "model.compile(optimizer=Adam(learning_rate=0.0001),\n",
    "              loss='binary_crossentropy',\n",
    "              metrics=['accuracy'])"
   ]
  },
  {
   "cell_type": "code",
   "execution_count": 10,
   "id": "11fcd7f4-6ed7-4029-862e-0cdc9fcee7ec",
   "metadata": {},
   "outputs": [
    {
     "name": "stdout",
     "output_type": "stream",
     "text": [
      "Model: \"sequential\"\n",
      "_________________________________________________________________\n",
      " Layer (type)                Output Shape              Param #   \n",
      "=================================================================\n",
      " vgg16 (Functional)          (None, 4, 4, 512)         14714688  \n",
      "                                                                 \n",
      " flatten (Flatten)           (None, 8192)              0         \n",
      "                                                                 \n",
      " dense (Dense)               (None, 256)               2097408   \n",
      "                                                                 \n",
      " dropout (Dropout)           (None, 256)               0         \n",
      "                                                                 \n",
      " dense_1 (Dense)             (None, 1)                 257       \n",
      "                                                                 \n",
      "=================================================================\n",
      "Total params: 16,812,353\n",
      "Trainable params: 9,177,089\n",
      "Non-trainable params: 7,635,264\n",
      "_________________________________________________________________\n"
     ]
    }
   ],
   "source": [
    "# Model Summary\n",
    "model.summary()"
   ]
  },
  {
   "cell_type": "code",
   "execution_count": 12,
   "id": "81379251-312d-4b76-9383-226e331cc11e",
   "metadata": {},
   "outputs": [
    {
     "name": "stdout",
     "output_type": "stream",
     "text": [
      "Epoch 1/5\n",
      "63/63 [==============================] - 405s 6s/step - loss: 0.2443 - accuracy: 0.8965 - val_loss: 0.1886 - val_accuracy: 0.9140\n",
      "Epoch 2/5\n",
      "63/63 [==============================] - 434s 7s/step - loss: 0.2047 - accuracy: 0.9165 - val_loss: 0.1875 - val_accuracy: 0.9300\n",
      "Epoch 3/5\n",
      "63/63 [==============================] - 412s 7s/step - loss: 0.1736 - accuracy: 0.9235 - val_loss: 0.1759 - val_accuracy: 0.9380\n",
      "Epoch 4/5\n",
      "63/63 [==============================] - 255s 4s/step - loss: 0.1416 - accuracy: 0.9435 - val_loss: 0.2179 - val_accuracy: 0.9350\n",
      "Epoch 5/5\n",
      "63/63 [==============================] - 251s 4s/step - loss: 0.1701 - accuracy: 0.9305 - val_loss: 0.1610 - val_accuracy: 0.9320\n"
     ]
    }
   ],
   "source": [
    "history = model.fit(\n",
    "    train_generator,\n",
    "    epochs=5,\n",
    "    validation_data=val_generator\n",
    ")"
   ]
  },
  {
   "cell_type": "code",
   "execution_count": 13,
   "id": "94b5e8bf-095a-4d1b-970c-208da3a91f6b",
   "metadata": {},
   "outputs": [
    {
     "name": "stdout",
     "output_type": "stream",
     "text": [
      "32/32 [==============================] - 68s 2s/step - loss: 0.1610 - accuracy: 0.9320\n",
      "Test Accuracy: 0.93\n"
     ]
    }
   ],
   "source": [
    "test_loss, test_acc = model.evaluate(val_generator, verbose=1)\n",
    "print(f\"Test Accuracy: {test_acc:.2f}\")"
   ]
  },
  {
   "cell_type": "code",
   "execution_count": 19,
   "id": "5a10185e-9171-437d-a34a-db4bb1f290fb",
   "metadata": {},
   "outputs": [
    {
     "data": {
      "image/png": "[encoded data removed]",
      "text/plain": [
       "<Figure size 640x480 with 1 Axes>"
      ]
     },
     "metadata": {},
     "output_type": "display_data"
    }
   ],
   "source": [
    "plt.plot(history.history['accuracy'], label='Train Accuracy')\n",
    "plt.plot(history.history['val_accuracy'], label='Validation Accuracy')\n",
    "plt.xlabel('Epochs')\n",
    "plt.ylabel('Accuracy')\n",
    "plt.legend()\n",
    "plt.show()"
   ]
  }
 ],
 "metadata": {
  "kernelspec": {
   "display_name": "Python 3 (ipykernel)",
   "language": "python",
   "name": "python3"
  },
  "language_info": {
   "codemirror_mode": {
    "name": "ipython",
    "version": 3
   },
   "file_extension": ".py",
   "mimetype": "text/x-python",
   "name": "python",
   "nbconvert_exporter": "python",
   "pygments_lexer": "ipython3",
   "version": "3.10.0"
  }
 },
 "nbformat": 4,
 "nbformat_minor": 5
}
